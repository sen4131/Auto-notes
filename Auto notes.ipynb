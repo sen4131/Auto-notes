{
 "cells": [
  {
   "cell_type": "code",
   "execution_count": 1,
   "metadata": {},
   "outputs": [],
   "source": [
    "import speech_recognition as sr     # import the library\n",
    "from gensim.summarization.summarizer import summarize"
   ]
  },
  {
   "cell_type": "code",
   "execution_count": null,
   "metadata": {},
   "outputs": [],
   "source": [
    "text_dump = ''\n",
    "#Houndify\n",
    "houndify_id = \"DwfLBgSNe4V8cN6oXgDLVQ==\"\n",
    "houndify_key = \"N63SyRSie7txKYYub0VO6Rp_gaXOFKtANYj8h9x0a5xExUAjNduHqGEVdiLWSf-VJzKe6xYI3jBlEor4GDTroQ==\" \n",
    "#Wit.ai\n",
    "wit_ai_key = \"J7N7AEMSLH6Z6VL6ILXYQPFL3NDRUY7H\""
   ]
  },
  {
   "cell_type": "code",
   "execution_count": null,
   "metadata": {},
   "outputs": [],
   "source": [
    "#Houndify\n",
    "r = sr.Recognizer()                 # initialize recognizer\n",
    "with sr.Microphone() as source: # mention source it will be either Microphone or audio files.\n",
    "    r.adjust_for_ambient_noise(source)\n",
    "    print(\"Speak Anything :\")\n",
    "    audio = r.listen(source)        # listen to the source\n",
    "    try:\n",
    "        text = r.recognize_houndify(audio, client_id = houndify_id, client_key = houndify_key)\n",
    "        text_dump += text\n",
    "        #text = r.recognize_google(audio)    # use recognizer to convert our audio into text part.\n",
    "        print(\"You said : {}. \".format(text))\n",
    "    except:\n",
    "        print(\"Sorry could not recognize your voice\")    # In case of voice not recognized  clearly"
   ]
  },
  {
   "cell_type": "code",
   "execution_count": null,
   "metadata": {},
   "outputs": [],
   "source": [
    "#Wit.ai\n",
    "r = sr.Recognizer()                 # initialize recognizer\n",
    "with sr.Microphone() as source: # mention source it will be either Microphone or audio files.\n",
    "    r.adjust_for_ambient_noise(source)\n",
    "    print(\"Speak Anything :\")\n",
    "    audio = r.listen(source)        # listen to the source\n",
    "    try:\n",
    "        text = r.recognize_wit(audio, key = wit_ai_key)\n",
    "        text_dump += text\n",
    "        #text = r.recognize_google(audio)    # use recognizer to convert our audio into text part.\n",
    "        print(\"You said : {}. \".format(text))\n",
    "    except:\n",
    "        print(\"Sorry could not recognize your voice\")    # In case of voice not recognized  clearly"
   ]
  },
  {
   "cell_type": "code",
   "execution_count": null,
   "metadata": {},
   "outputs": [],
   "source": [
    "#Google\n",
    "mic = sr.Microphone()\n",
    "with mic as source:\n",
    "    #r.adjust_for_ambient_noise(source)\n",
    "    print(\"Speak Anything :\")\n",
    "    audio = r.listen(source)\n",
    "    try:\n",
    "        text = r.recognize_google(audio)\n",
    "        text_dump += text    \n",
    "        print(\"You said : {}. \".format(text))\n",
    "    except:\n",
    "        print(\"Sorry could not recognize your voice\")    "
   ]
  },
  {
   "cell_type": "code",
   "execution_count": null,
   "metadata": {},
   "outputs": [],
   "source": [
    "print(text_dump)"
   ]
  },
  {
   "cell_type": "code",
   "execution_count": null,
   "metadata": {},
   "outputs": [],
   "source": []
  }
 ],
 "metadata": {
  "kernelspec": {
   "display_name": "Python 3",
   "language": "python",
   "name": "python3"
  },
  "language_info": {
   "codemirror_mode": {
    "name": "ipython",
    "version": 3
   },
   "file_extension": ".py",
   "mimetype": "text/x-python",
   "name": "python",
   "nbconvert_exporter": "python",
   "pygments_lexer": "ipython3",
   "version": "3.6.5"
  }
 },
 "nbformat": 4,
 "nbformat_minor": 2
}
